{
 "cells": [
  {
   "cell_type": "markdown",
   "metadata": {},
   "source": [
    "###  Print an alphabet rangoli of size n.\n",
    "- Rangoli is a form of Indian folk art based on creation of patterns"
   ]
  },
  {
   "cell_type": "code",
   "execution_count": 1,
   "metadata": {},
   "outputs": [],
   "source": [
    "def get_chars(n, i):\n",
    "    alphabet = 'abcdefghijklmnopqrstuvwxyz'\n",
    "    str_slice = alphabet[i:n]\n",
    "    return str_slice[::-1] + str_slice[1:]"
   ]
  },
  {
   "cell_type": "code",
   "execution_count": 6,
   "metadata": {},
   "outputs": [],
   "source": [
    "def create_line(n, i=0):\n",
    "    rows = (n*2)-1\n",
    "    columns = (rows*2)-1\n",
    "    chars = get_chars(n, i)\n",
    "    inner_part = '-'.join(chars)\n",
    "    dashes = int((columns - len(inner_part))/2)\n",
    "    outer_part = '-' * dashes\n",
    "    full_line = outer_part + inner_part + outer_part\n",
    "    return full_line"
   ]
  },
  {
   "cell_type": "code",
   "execution_count": 8,
   "metadata": {},
   "outputs": [],
   "source": [
    "def create_rangoli(n):\n",
    "    rangoli = []\n",
    "    for i in range(0,n):\n",
    "        full_line = create_line(n, i)\n",
    "        rangoli.append(full_line)\n",
    "    return rangoli[::-1] + rangoli[1:]   "
   ]
  },
  {
   "cell_type": "code",
   "execution_count": 15,
   "metadata": {},
   "outputs": [],
   "source": [
    "def display_rangoli(rangoli):\n",
    "    for row in rangoli:\n",
    "        print(str(row))"
   ]
  },
  {
   "cell_type": "code",
   "execution_count": 20,
   "metadata": {},
   "outputs": [
    {
     "name": "stdout",
     "output_type": "stream",
     "text": [
      "--------e--------\n",
      "------e-d-e------\n",
      "----e-d-c-d-e----\n",
      "--e-d-c-b-c-d-e--\n",
      "e-d-c-b-a-b-c-d-e\n",
      "--e-d-c-b-c-d-e--\n",
      "----e-d-c-d-e----\n",
      "------e-d-e------\n",
      "--------e--------\n"
     ]
    }
   ],
   "source": [
    "n=5\n",
    "for row in create_rangoli(n):\n",
    "    print(str(row))"
   ]
  },
  {
   "cell_type": "code",
   "execution_count": null,
   "metadata": {},
   "outputs": [],
   "source": []
  },
  {
   "cell_type": "code",
   "execution_count": null,
   "metadata": {},
   "outputs": [],
   "source": []
  },
  {
   "cell_type": "code",
   "execution_count": null,
   "metadata": {},
   "outputs": [],
   "source": []
  }
 ],
 "metadata": {
  "kernelspec": {
   "display_name": "Python 3",
   "language": "python",
   "name": "python3"
  },
  "language_info": {
   "codemirror_mode": {
    "name": "ipython",
    "version": 3
   },
   "file_extension": ".py",
   "mimetype": "text/x-python",
   "name": "python",
   "nbconvert_exporter": "python",
   "pygments_lexer": "ipython3",
   "version": "3.7.7"
  }
 },
 "nbformat": 4,
 "nbformat_minor": 4
}
